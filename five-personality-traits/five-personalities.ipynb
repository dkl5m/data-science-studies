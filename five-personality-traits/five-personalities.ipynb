{
 "cells": [
  {
   "cell_type": "code",
   "execution_count": null,
   "metadata": {},
   "outputs": [],
   "source": [
    "\n",
    "    Openness to experience (inventive/curious vs. consistent/cautious)\n",
    "    Conscientiousness (efficient/organized vs. easy-going/careless)\n",
    "    Extroversion (outgoing/energetic vs. solitary/reserved)\n",
    "    Agreeableness (friendly/compassionate vs. challenging/detached)\n",
    "    Neuroticism (sensitive/nervous vs. secure/confident)\n",
    "\n",
    "# Link: https://www.kaggle.com/tunguz/big-five-personality-test\n",
    "\n",
    "# Importing\n",
    "\n",
    "import numpy as np \n",
    "import pandas as pd\n",
    "import matplotlib.pyplot as plt\n",
    "import seaborn as sns\n",
    "import os\n",
    "from io import open\n",
    "pd.options.display.max_columns = 150\n",
    "\n",
    "# Loading dataset\n",
    "\n",
    "data = pd.read_csv('data-final.csv', sep='\\t')\n"
   ]
  }
 ],
 "metadata": {
  "language_info": {
   "name": "python"
  }
 },
 "nbformat": 4,
 "nbformat_minor": 2
}
